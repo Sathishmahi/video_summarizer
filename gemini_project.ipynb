{
 "cells": [
  {
   "cell_type": "code",
   "execution_count": 1,
   "metadata": {},
   "outputs": [],
   "source": []
  },
  {
   "cell_type": "code",
   "execution_count": 2,
   "metadata": {},
   "outputs": [],
   "source": [
    "!pip install -q google-generativeai"
   ]
  },
  {
   "cell_type": "code",
   "execution_count": 3,
   "metadata": {},
   "outputs": [
    {
     "name": "stderr",
     "output_type": "stream",
     "text": [
      "e:\\AI-project-Custom\\venv\\lib\\site-packages\\tqdm\\auto.py:21: TqdmWarning: IProgress not found. Please update jupyter and ipywidgets. See https://ipywidgets.readthedocs.io/en/stable/user_install.html\n",
      "  from .autonotebook import tqdm as notebook_tqdm\n"
     ]
    }
   ],
   "source": [
    "import google.generativeai as genai"
   ]
  },
  {
   "cell_type": "code",
   "execution_count": 4,
   "metadata": {},
   "outputs": [],
   "source": [
    "genai.configure(api_key=API_KEY)"
   ]
  },
  {
   "cell_type": "code",
   "execution_count": 5,
   "metadata": {},
   "outputs": [],
   "source": [
    "model = genai.GenerativeModel(\"gemini-pro\")"
   ]
  },
  {
   "cell_type": "code",
   "execution_count": 6,
   "metadata": {},
   "outputs": [],
   "source": [
    "chat = model.start_chat(history=[])"
   ]
  },
  {
   "cell_type": "code",
   "execution_count": 7,
   "metadata": {},
   "outputs": [],
   "source": [
    "def get_gem_res(ques):\n",
    "    response = chat.send_message(ques,stream=True)\n",
    "    return response"
   ]
  },
  {
   "cell_type": "code",
   "execution_count": null,
   "metadata": {},
   "outputs": [],
   "source": [
    "!pip install \"assemblyai[extras]\""
   ]
  },
  {
   "cell_type": "code",
   "execution_count": 10,
   "metadata": {},
   "outputs": [
    {
     "name": "stdout",
     "output_type": "stream",
     "text": [
      "If you remove the tray from your washing machine, you'll notice it's completely sealed. If I fill this thing with liquid, eventually it reaches the opening at the top of this tube. It comes out the back here. But the liquid doesn't empty completely. It remains at the same level as that opening at the top of the tube. So how is it that after the washer's finished, that compartment is completely empty? When I put this lid back on, watch what happens. The liquid empties out. How is that? The mechanism is called a pythagorean siphon. The level of liquid in these two chambers is the same as the level of liquid in the main chambers. That's because the pressure is the same in both of those places. But when the liquid reaches the top edge here and spills into that central chamber, it falls down because of gravity. But the liquid forms a kind of seal because of surface tension. The weight of that water in the central chamber pulls the rest of the liquid out of the device until it's almost completely empty. And that's the purpose of the mechanism in the fabric softener tray.\n"
     ]
    }
   ],
   "source": [
    "import assemblyai as aai\n",
    "\n",
    "aai.settings.api_key = \"\"\n",
    "transcriber = aai.Transcriber()\n",
    "\n",
    "# transcript = transcriber.transcribe(\"https://storage.googleapis.com/aai-web-samples/news.mp4\")\n",
    "transcript = transcriber.transcribe(\"demo.mp3\")\n",
    "\n",
    "print(transcript.text)"
   ]
  },
  {
   "cell_type": "code",
   "execution_count": null,
   "metadata": {},
   "outputs": [],
   "source": [
    "response = get_gem_res(f\"\"\" summarize this into one line \"{transcript.text}\" \"\"\")"
   ]
  },
  {
   "cell_type": "code",
   "execution_count": null,
   "metadata": {},
   "outputs": [],
   "source": [
    "!pip install gtts"
   ]
  },
  {
   "cell_type": "code",
   "execution_count": null,
   "metadata": {},
   "outputs": [],
   "source": [
    "from gtts import gTTS\n",
    "import os\n",
    "\n",
    "def text_to_speech(text, language='en', output_file='output.mp3'):\n",
    "    \"\"\"\n",
    "    Converts the given text to speech and saves it as an audio file.\n",
    "\n",
    "    Parameters:\n",
    "        text (str): The text to be converted to speech.\n",
    "        language (str): The language of the text (default is 'en' for English).\n",
    "        output_file (str): The filename for the output audio file (default is 'output.mp3').\n",
    "    \"\"\"\n",
    "    tts = gTTS(text=text, lang=language, slow=False)\n",
    "    tts.save(output_file)\n",
    "\n",
    "    # Play the generated audio file\n",
    "    os.system(f\"start {output_file}\")  # For Windows\n",
    "\n",
    "if __name__ == \"__main__\":\n",
    "    text_to_speech(\"Hello, this is a text-to-speech example.\")\n"
   ]
  },
  {
   "cell_type": "code",
   "execution_count": null,
   "metadata": {},
   "outputs": [
    {
     "name": "stdout",
     "output_type": "stream",
     "text": [
      "**Pythagorean siphon empties washing machine fabric softener tray via liquid weight and\n",
      " surface tension.**\n"
     ]
    }
   ],
   "source": [
    "for chunk in response:\n",
    "    print(chunk.text)"
   ]
  },
  {
   "cell_type": "code",
   "execution_count": 31,
   "metadata": {},
   "outputs": [],
   "source": [
    "multi_model = genai.GenerativeModel(\"gemini-pro-vision\")"
   ]
  },
  {
   "cell_type": "code",
   "execution_count": 35,
   "metadata": {},
   "outputs": [],
   "source": [
    "from PIL import Image\n",
    "out=multi_model.generate_content((\"who is this ?\",\n",
    "                            Image.open(\"Screenshot 2023-12-28 173053.png\") ))"
   ]
  },
  {
   "cell_type": "code",
   "execution_count": 36,
   "metadata": {},
   "outputs": [
    {
     "data": {
      "text/plain": [
       "' This is a screenshot of a video of Indian Youtuber and content creator Ashish Chanchlani.'"
      ]
     },
     "execution_count": 36,
     "metadata": {},
     "output_type": "execute_result"
    }
   ],
   "source": [
    "out.text"
   ]
  },
  {
   "cell_type": "code",
   "execution_count": null,
   "metadata": {},
   "outputs": [],
   "source": [
    "Image.open(\"../people_out_first.jpg\")"
   ]
  },
  {
   "cell_type": "code",
   "execution_count": null,
   "metadata": {},
   "outputs": [],
   "source": [
    "import time\n",
    "s = time.time()\n",
    "e = 200\n",
    "while True:\n",
    "    if int(time.time() - s)%50==0:\n",
    "        print(int(time.time() - s))\n",
    "    if int(time.time() - s)>=e:\n",
    "        print(\"BREAKPOINT\")\n",
    "    "
   ]
  },
  {
   "cell_type": "code",
   "execution_count": null,
   "metadata": {},
   "outputs": [],
   "source": [
    "import pafy \n",
    "\n",
    "# url of video \n",
    "url = \"https://www.youtube.com/watch?v=Ns4LCeeOFS4&t=320s\"\n",
    "\n",
    "# instant created \n",
    "video = pafy.new(url) \n",
    "\n",
    "# print title \n",
    "print(video.title) \n",
    "\n",
    "# print rating \n",
    "print(video.rating) \n",
    "\n",
    "# print viewcount \n",
    "print(video.viewcount) \n",
    "\n",
    "# print author & video length \n",
    "print(video.author, video.length) \n",
    "\n",
    "# print duration, likes, dislikes & description \n",
    "print(video.duration, video.likes, video.dislikes, video.description) \n"
   ]
  },
  {
   "cell_type": "code",
   "execution_count": null,
   "metadata": {},
   "outputs": [],
   "source": []
  },
  {
   "cell_type": "code",
   "execution_count": null,
   "metadata": {},
   "outputs": [],
   "source": [
    "import cv2\n",
    "def resize_video(input_video_path, output_video_path,frame_width=600,frame_height=600):\n",
    "    print(f\"{input_video_path=}\")\n",
    "    cap = cv2.VideoCapture(input_video_path)\n",
    "    fps = cap.get(cv2.CAP_PROP_FPS)\n",
    "    # writer = cv2.VideoWriter(output_video_path,cv2.VideoWriter_fourcc(*\"H264\"),fps,(frame_width,frame_height))\n",
    "    fourcc = 0x00000021 \n",
    "    writer = cv2.VideoWriter(output_video_path,fourcc,fps,(frame_width,frame_height))\n",
    "    \n",
    "    while True:\n",
    "        suc,frame = cap.read()\n",
    "        if not suc: break\n",
    "        writer.write(cv2.resize(frame,(frame_width,frame_height)))\n",
    "        \n",
    "    writer.release()\n",
    "    cap.release()"
   ]
  },
  {
   "cell_type": "code",
   "execution_count": null,
   "metadata": {},
   "outputs": [],
   "source": []
  }
 ],
 "metadata": {
  "kernelspec": {
   "display_name": "Python 3",
   "language": "python",
   "name": "python3"
  },
  "language_info": {
   "codemirror_mode": {
    "name": "ipython",
    "version": 3
   },
   "file_extension": ".py",
   "mimetype": "text/x-python",
   "name": "python",
   "nbconvert_exporter": "python",
   "pygments_lexer": "ipython3",
   "version": "3.10.0"
  }
 },
 "nbformat": 4,
 "nbformat_minor": 2
}
